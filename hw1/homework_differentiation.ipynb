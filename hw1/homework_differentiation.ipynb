{
 "cells": [
  {
   "cell_type": "markdown",
   "metadata": {},
   "source": [
    "# Homework 1: Differentiation"
   ]
  },
  {
   "cell_type": "markdown",
   "metadata": {},
   "source": [
    "Since it easy to google every task please please please try to undestand what's going on. The \"just answer\" thing will be not counted, make sure to present derivation of your solution. It is absolutely OK if you found an answer on web then just exercise in $\\LaTeX$ copying it into here. A good way to derive solutions for these tasks is to derive it for single elements and then generalize to the resulting matrix/vector."
   ]
  },
  {
   "cell_type": "markdown",
   "metadata": {},
   "source": [
    "Useful links: \n",
    "[1](http://www.machinelearning.ru/wiki/images/2/2a/Matrix-Gauss.pdf)\n",
    "[2](http://www.atmos.washington.edu/~dennis/MatrixCalculus.pdf)\n",
    "[3](http://cal.cs.illinois.edu/~johannes/research/matrix%20calculus.pdf)"
   ]
  },
  {
   "cell_type": "markdown",
   "metadata": {},
   "source": [
    "## ex. 1"
   ]
  },
  {
   "cell_type": "markdown",
   "metadata": {},
   "source": [
    "Scalar w.r.t. vector:\n",
    "$$  \n",
    "y = c^Tx,  \\quad x \\in \\mathbb{R}^N \n",
    "$$"
   ]
  },
  {
   "cell_type": "markdown",
   "metadata": {
    "collapsed": true
   },
   "source": [
    "Considering the linear transformation $f(x) = c^Tx,  \\quad x \\in \\mathbb{R}^N$\n",
    "\n",
    "Using the fact: $f(x + y) = f(x) + \\langle\\nabla f(x),y \\rangle + o(\\|y\\|)$\n",
    "\n",
    "We are getting the following: $c^{\\top}(x + y) = c^{\\top}x + \\langle c,y \\rangle$\n",
    "\n",
    "So\n",
    "$$\n",
    "\\frac{dy}{dx} = c\n",
    "$$ "
   ]
  },
  {
   "cell_type": "markdown",
   "metadata": {},
   "source": [
    "## ex. 2"
   ]
  },
  {
   "cell_type": "markdown",
   "metadata": {},
   "source": [
    "Vector w.r.t. vector:\n",
    "$$ y = \\sum_{j=1}^{N} (cx^T)_j \\quad c \\in \\mathbb{R}^{M} ,x \\in \\mathbb{R}^{N}, cx^T \\in \\mathbb{R}^{M \\times N} $$ "
   ]
  },
  {
   "cell_type": "markdown",
   "metadata": {
    "collapsed": true
   },
   "source": [
    "$$\n",
    "\\frac{dy}{dx} \\overset{def.}{=} \\left\\|\\frac{\\partial y_i}{\\partial x_j}\\right\\|_{i, j = 1}^{M, N}\n",
    "$$\n",
    "\n",
    "Let's consider $y_i$:\n",
    "$y_i = \\left[\\sum\\limits_{j = 1}^N(cx^{\\top})_{j}\\right]_i = c_i\\sum\\limits_{j = 1}^Nx_j$\n",
    "\n",
    "$$\\forall j \\in \\{1, \\dotso, N\\} \\rightarrow \\frac{\\partial y_i}{\\partial x_j} = c_i \\Rightarrow \\frac{dy}{dx} = c \\cdot (1,\\dotso,1)$$\n",
    "Hence $c$ is a column, we get the matrix of size $M \\times N$\n"
   ]
  },
  {
   "cell_type": "markdown",
   "metadata": {},
   "source": [
    "## ex. 3"
   ]
  },
  {
   "cell_type": "markdown",
   "metadata": {},
   "source": [
    "Vector w.r.t. vector:\n",
    "$$  \n",
    "y = x x^T x , x \\in \\mathbb{R}^{N}\n",
    "$$\n",
    "\n",
    "$$\n",
    "\\frac{dy}{dx} \\overset{def.}{=} \\left\\|\\frac{\\partial y_i}{\\partial x_j}\\right\\|_{i, j = 1}^{N, N}\n",
    "$$\n",
    "\n",
    "Let's denote $x^T x$ as $z=z(x)$ (a scalar). Next, recall multiplication derviation rule and\n",
    "\n",
    "$$\n",
    "y_i = x_i z(x)\n",
    "$$\n",
    "\n",
    "$$\n",
    "\\frac{\\partial y_i}{\\partial x_j} = z(x) + x_i \\frac{\\partial z}{\\partial x_j}\n",
    "$$\n",
    "\n",
    "Also recall $\\frac{\\partial z}{\\partial x_j} = 2x_j$\n",
    "\n",
    "Then:\n",
    "* if $i=j,\\ \\Rightarrow\\ \\frac{\\partial y_i}{\\partial x_j} = z(x) + 2x_i^2$\n",
    "* if $i\\neq j,\\ \\Rightarrow\\ \\frac{\\partial y_i}{\\partial x_j} = 2x_i x_j$\n",
    "\n",
    "Finally, $z(x) = \\|x\\|^2$, and putting it all together:\n",
    "$$\n",
    "\\frac{dy}{dx} = 2xx^{\\top} + \\|x\\|^2\\  diag(1,\\dotso,1) \n",
    "$$"
   ]
  },
  {
   "cell_type": "markdown",
   "metadata": {},
   "source": [
    "## ex. 4"
   ]
  },
  {
   "cell_type": "markdown",
   "metadata": {},
   "source": [
    "Derivatives for the parameters of the Dense layer:\n",
    "\n",
    "***Given :***  $$Y = XW, Y \\in \\mathbb{R}^{N \\times OUT}, X \\in \\mathbb{R}^{N \\times IN}, W \\in \\mathbb{R}^{IN \\times OUT} $$ \n",
    "\n",
    "The derivative of the hypothetic loss function w.r.t. to $Y$ is known: $\\Delta Y  \\in \\mathbb{R}^{N \\times OUT}$\n",
    "\n",
    "***Task :*** Please, derive the gradients of the loss w.r.t the weight matrix $W$: $\\Delta W  \\in \\mathbb{R}^{IN \\times OUT}$. Use the chain rule. First, please, derive each element of the $\\Delta W$, then generalize to the matrix form.\n",
    " \n",
    "Useful link: http://cs231n.stanford.edu/vecDerivs.pdf\n"
   ]
  },
  {
   "cell_type": "code",
   "execution_count": null,
   "metadata": {
    "collapsed": true
   },
   "outputs": [],
   "source": []
  }
 ],
 "metadata": {
  "kernelspec": {
   "display_name": "Python 2",
   "language": "python",
   "name": "python2"
  },
  "language_info": {
   "codemirror_mode": {
    "name": "ipython",
    "version": 2
   },
   "file_extension": ".py",
   "mimetype": "text/x-python",
   "name": "python",
   "nbconvert_exporter": "python",
   "pygments_lexer": "ipython2",
   "version": "2.7.12"
  }
 },
 "nbformat": 4,
 "nbformat_minor": 1
}
