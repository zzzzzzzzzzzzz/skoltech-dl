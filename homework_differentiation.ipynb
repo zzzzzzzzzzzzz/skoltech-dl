{
 "cells": [
  {
   "cell_type": "markdown",
   "metadata": {},
   "source": [
    "# Homework 1: Differentiation"
   ]
  },
  {
   "cell_type": "markdown",
   "metadata": {},
   "source": [
    "Since it easy to google every task please please please try to undestand what's going on. The \"just answer\" thing will be not counted, make sure to present derivation of your solution. It is absolutely OK if you found an answer on web then just exercise in $\\LaTeX$ copying it into here. A good way to derive solutions for these tasks is to derive it for single elements and then generalize to the resulting matrix/vector."
   ]
  },
  {
   "cell_type": "markdown",
   "metadata": {},
   "source": [
    "Useful links: \n",
    "[1](http://www.machinelearning.ru/wiki/images/2/2a/Matrix-Gauss.pdf)\n",
    "[2](http://www.atmos.washington.edu/~dennis/MatrixCalculus.pdf)\n",
    "[3](http://cal.cs.illinois.edu/~johannes/research/matrix%20calculus.pdf)"
   ]
  },
  {
   "cell_type": "markdown",
   "metadata": {},
   "source": [
    "## ex. 1"
   ]
  },
  {
   "cell_type": "markdown",
   "metadata": {},
   "source": [
    "Scalar w.r.t. vector:\n",
    "$$  \n",
    "y = c^Tx,  \\quad x \\in \\mathbb{R}^N \n",
    "$$"
   ]
  },
  {
   "cell_type": "markdown",
   "metadata": {},
   "source": [
    "$$\n",
    "\\frac{dy}{dx} = ?\n",
    "$$ "
   ]
  },
  {
   "cell_type": "markdown",
   "metadata": {
    "collapsed": true
   },
   "source": [
    "Considering the following:\n",
    "\n",
    "$$f(x + y) = f(x) + \\langle\\nabla f(x),y \\rangle + o(\\|y\\|)$$\n",
    "\\begin{align}\n",
    "c^{\\top}(x + z) = c^{\\top}x + c^{\\top}z = c^{\\top}x + \\langle c,z \\rangle\n",
    "\\end{align}\n",
    "Then\n",
    "$$\\nabla_x y = c$$"
   ]
  },
  {
   "cell_type": "markdown",
   "metadata": {},
   "source": [
    "## ex. 2"
   ]
  },
  {
   "cell_type": "markdown",
   "metadata": {},
   "source": [
    "Vector w.r.t. vector:\n",
    "$$ y = \\sum_{j=1}^{N} (cx^T)_{ij} \\quad c \\in \\mathbb{R}^{M} ,x \\in \\mathbb{R}^{N}, cx^T \\in \\mathbb{R}^{M \\times N} $$ "
   ]
  },
  {
   "cell_type": "markdown",
   "metadata": {},
   "source": [
    "$$\n",
    "\\frac{dy}{dx} = \\left\\|\\frac{\\partial y_i}{\\partial x_j}\\right\\|_{i, j = 1}^{M, N}\n",
    "$$"
   ]
  },
  {
   "cell_type": "markdown",
   "metadata": {
    "collapsed": true
   },
   "source": [
    "\\begin{align}\n",
    "y_i &= \\left(\\sum\\limits_{j = 1}^N(cx^{\\top})_{ij}\\right)_i = c_i\\sum\\limits_{j = 1}^Nx_i,\\\\\n",
    "\\frac{\\partial y_i}{\\partial x_j} &= c_i,~j = 1, \\ldots, N\\\\\n",
    "\\frac{dy}{dx} &= c{\\bf 1}_N^{\\top}\n",
    "\\end{align}\n",
    "where ${\\bf 1}_N = (1, \\ldots, 1_N)^{\\top}$"
   ]
  },
  {
   "cell_type": "markdown",
   "metadata": {},
   "source": [
    "## ex. 3"
   ]
  },
  {
   "cell_type": "markdown",
   "metadata": {},
   "source": [
    "Vector w.r.t. vector:\n",
    "$$  \n",
    "y = x x^T x , x \\in \\mathbb{R}^{N}\n",
    "$$\n",
    "\n",
    "$$\n",
    "\\frac{dy}{dx} =\\left\\|\\frac{\\partial y_i}{\\partial x_j}\\right\\|_{i, j = 1}^{N, N}\n",
    "$$"
   ]
  },
  {
   "cell_type": "markdown",
   "metadata": {
    "collapsed": true
   },
   "source": [
    "\\begin{align}\n",
    "&y_i = x_i\\sum\\limits_{j = 1}^Nx_j^2\\\\\n",
    "&\\frac{\\partial y_i}{\\partial x_i} = \\sum\\limits_{j = 1}^Nx_j^2 + 2x_i\\cdot x_i = \\|x\\|^2 + 2x_i^2\\\\\n",
    "&\\frac{\\partial y_i}{\\partial x_{j \\neq i}} = 2x_ix_j\\\\\n",
    "&\\frac{dy}{dx} = 2xx^{\\top} + \\|x\\|^2I_N\n",
    "\\end{align}\n",
    "where $I_N = {\\rm diag}(1, \\ldots, 1_N)$"
   ]
  },
  {
   "cell_type": "markdown",
   "metadata": {},
   "source": [
    "## ex. 4"
   ]
  },
  {
   "cell_type": "markdown",
   "metadata": {},
   "source": [
    "Derivatives for the parameters of the Dense layer:\n",
    "\n",
    "***Given :***  $$Y = XW, Y \\in \\mathbb{R}^{N \\times OUT}, X \\in \\mathbb{R}^{N \\times IN}, W \\in \\mathbb{R}^{IN \\times OUT} $$ \n",
    "\n",
    "The derivative of the hypothetic loss function w.r.t. to $Y$ is known: $\\Delta Y  \\in \\mathbb{R}^{N \\times OUT}$\n",
    "\n",
    "***Task :*** Please, derive the gradients of the loss w.r.t the weight matrix $W$: $\\Delta W  \\in \\mathbb{R}^{IN \\times OUT}$. Use the chain rule. First, please, derive each element of the $\\Delta W$, then generalize to the matrix form.\n",
    " \n",
    "Useful link: http://cs231n.stanford.edu/vecDerivs.pdf\n"
   ]
  },
  {
   "cell_type": "markdown",
   "metadata": {
    "collapsed": true
   },
   "source": [
    "\\begin{align}\n",
    "&loss(Y) = loss(XW)\\\\\n",
    "&{\\rm dim}\\frac{\\partial loss}{\\partial W} = IN \\times OUT\\\\\n",
    "&{\\rm dim}\\frac{\\partial loss}{\\partial Y} = N \\times OUT\n",
    "\\end{align}\n",
    "\n",
    "\\begin{align}\n",
    "\\frac{\\partial loss(XW)}{\\partial W_{ij}} &= \\sum\\limits_{k, l = 1}^{N, OUT}\\frac{\\partial loss}{\\partial Y_{kl}}\\frac{\\partial \\sum\\limits_{p = 1}^{IN}X_{kp}W_{pl}}{\\partial W_{ij}} \\\\\n",
    "\\frac{\\partial \\sum\\limits_{p = 1}^{IN}X_{kp}W_{pl}}{\\partial W_{ij}} &= \\frac{\\partial Y_{kj}}{\\partial W_{ij}} = X_{ki}\n",
    "\\end{align}\n",
    "\n",
    "\n",
    "\\begin{align}\n",
    "\\frac{\\partial loss(XW)}{\\partial W_{ij}} &= \\sum\\limits_{k = 1}^{N}\\frac{\\partial loss}{\\partial Y_{kj}}X_{ki} = \n",
    "\\sum\\limits_{k = 1}^{IN}X^{\\top}_{ik}\\frac{\\partial loss}{\\partial Y_{kj}}\n",
    "\\end{align}\n",
    "$$\\frac{\\partial loss}{\\partial W} = X^{\\top}\\frac{\\partial loss}{\\partial Y}$$\n"
   ]
  },
  {
   "cell_type": "code",
   "execution_count": null,
   "metadata": {
    "collapsed": true
   },
   "outputs": [],
   "source": []
  }
 ],
 "metadata": {
  "anaconda-cloud": {},
  "kernelspec": {
   "display_name": "Python 3",
   "language": "python",
   "name": "python3"
  },
  "language_info": {
   "codemirror_mode": {
    "name": "ipython",
    "version": 3
   },
   "file_extension": ".py",
   "mimetype": "text/x-python",
   "name": "python",
   "nbconvert_exporter": "python",
   "pygments_lexer": "ipython3",
   "version": "3.5.2"
  }
 },
 "nbformat": 4,
 "nbformat_minor": 1
}
